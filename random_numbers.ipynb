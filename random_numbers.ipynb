{
 "cells": [
  {
   "cell_type": "code",
   "execution_count": 45,
   "id": "83fccde2-b1dc-469e-8f32-e46e875d3b38",
   "metadata": {},
   "outputs": [],
   "source": [
    "import random\n",
    "import numpy as np\n",
    "import timeit\n",
    "%timeit\n",
    "from citipy import citipy"
   ]
  },
  {
   "cell_type": "code",
   "execution_count": 46,
   "id": "7b49e4d1-f92a-46a9-b5d4-990bad741ceb",
   "metadata": {},
   "outputs": [
    {
     "data": {
      "text/plain": [
       "[-66.15216162147595,\n",
       " -43.007732411823184,\n",
       " 59.785779803060095,\n",
       " 3.7769652581831004,\n",
       " -59.675637417267005,\n",
       " 39.73886996181619,\n",
       " -52.068943746808436,\n",
       " 25.119196820031398,\n",
       " -7.472372192564208,\n",
       " -60.57948900633656]"
      ]
     },
     "execution_count": 46,
     "metadata": {},
     "output_type": "execute_result"
    }
   ],
   "source": [
    "x=1\n",
    "latitudes = []\n",
    "\n",
    "while x<11:\n",
    "    random_lat = random.randint(-90,90) + random.random()\n",
    "    latitudes.append(random_lat)\n",
    "    x += 1\n",
    "    \n",
    "latitudes"
   ]
  },
  {
   "cell_type": "code",
   "execution_count": 47,
   "id": "d69e4de3-78ad-4ea8-9159-090f01b0c7d1",
   "metadata": {},
   "outputs": [
    {
     "data": {
      "text/plain": [
       "[141.57519368415984,\n",
       " 64.49926996775498,\n",
       " 135.44215416635313,\n",
       " 5.736037886706306,\n",
       " 155.65551025559193,\n",
       " -112.81362642971739,\n",
       " -4.671140051049816,\n",
       " 162.2145540279588,\n",
       " 17.939043793370114,\n",
       " 172.3530674919788]"
      ]
     },
     "execution_count": 47,
     "metadata": {},
     "output_type": "execute_result"
    }
   ],
   "source": [
    "x=1\n",
    "longitude = []\n",
    "while x<11:\n",
    "    random_long = random.randint(-180,180) + random.random()\n",
    "    longitude.append(random_long)\n",
    "    x += 1\n",
    "    \n",
    "longitude"
   ]
  },
  {
   "cell_type": "code",
   "execution_count": 48,
   "id": "e00b5a42-42fa-46d0-82ce-11a2e4e32f7b",
   "metadata": {},
   "outputs": [
    {
     "name": "stdout",
     "output_type": "stream",
     "text": [
      "15 µs ± 124 ns per loop (mean ± std. dev. of 7 runs, 100000 loops each)\n"
     ]
    }
   ],
   "source": [
    "#method with humpy\n",
    "np.random.uniform(-90.000,90.000)\n",
    "\n",
    "#to generate a number of randome values \n",
    "np.random.uniform(-90,90,size=50)\n",
    "\n",
    "%timeit np.random.uniform(-90.000, 90.000, size=1500)"
   ]
  },
  {
   "cell_type": "code",
   "execution_count": 49,
   "id": "214f8089-4f86-48e9-9b64-a161b9f7817c",
   "metadata": {},
   "outputs": [],
   "source": [
    "def latitudes(size):\n",
    "    latitudes = []\n",
    "    x = 0\n",
    "    while x < (size):\n",
    "        random_lat = random.randint(-90, 90) + random.random()\n",
    "        latitudes.append(random_lat)\n",
    "        x += 1\n",
    "    return latitudes"
   ]
  },
  {
   "cell_type": "code",
   "execution_count": 50,
   "id": "d4315842-1cd9-473e-869f-5cb5c8147692",
   "metadata": {},
   "outputs": [
    {
     "name": "stdout",
     "output_type": "stream",
     "text": [
      "2.56 ms ± 201 µs per loop (mean ± std. dev. of 7 runs, 1000 loops each)\n"
     ]
    }
   ],
   "source": [
    "# Call the function with 1500.\n",
    "%timeit latitudes(1500)"
   ]
  },
  {
   "cell_type": "code",
   "execution_count": 52,
   "id": "586163f5-aab6-4b29-af60-459bb6c41815",
   "metadata": {},
   "outputs": [
    {
     "data": {
      "text/plain": [
       "639"
      ]
     },
     "execution_count": 52,
     "metadata": {},
     "output_type": "execute_result"
    }
   ],
   "source": [
    "#Create a set of random latitutes and longitudes\n",
    "lats = np.random.uniform(low=-90.000,high = 90.000, size=1500)\n",
    "lngs = np.random.uniform(low=-180.00, high=180.000, size=1500)\n",
    "lat_lngs = zip(lats,lngs)\n",
    "\n",
    "# Create a list for holding the cities.\n",
    "cities = []\n",
    "# Identify the nearest city for each latitude and longitude combination.\n",
    "for coordinate in lat_lngs:\n",
    "    city = citipy.nearest_city(coordinate[0], coordinate[1]).city_name\n",
    "    # If the city is unique, then we will add it to the cities list.\n",
    "    if city not in cities:\n",
    "        cities.append(city)\n",
    "\n",
    "# Print the city count to confirm sufficient count.\n",
    "len(cities)"
   ]
  },
  {
   "cell_type": "code",
   "execution_count": 42,
   "id": "b562a381-b3fd-410c-b375-21e9d8a197ef",
   "metadata": {},
   "outputs": [],
   "source": [
    "coordinates = list(lat_lngs)"
   ]
  },
  {
   "cell_type": "code",
   "execution_count": 43,
   "id": "34b0f525-4bb9-43ba-a06b-396bfcca8884",
   "metadata": {},
   "outputs": [
    {
     "data": {
      "text/plain": [
       "5"
      ]
     },
     "execution_count": 43,
     "metadata": {},
     "output_type": "execute_result"
    }
   ],
   "source": [
    "# Create a practice set of random latitude and longitude combinations.\n",
    "x = [25.12903645, 25.92017388, 26.62509167, -59.98969384, 37.30571269]\n",
    "y = [-67.59741259, 11.09532135, 74.84233102, -76.89176677, -61.13376282]\n",
    "coordinates = zip(x, y)\n",
    "# Use the tuple() function to display the latitude and longitude combinations.\n",
    "#for coordinate in coordinates:\n",
    "#    print(coordinate[0], coordinate[1])\n",
    "    \n",
    "# Create a list for holding the cities.\n",
    "cities = []\n",
    "# Identify the nearest city for each latitude and longitude combination.\n",
    "for coordinate in coordinates:\n",
    "    city = citipy.nearest_city(coordinate[0], coordinate[1]).city_name\n",
    "    # If the city is unique, then we will add it to the cities list.\n",
    "    if city not in cities:\n",
    "        cities.append(city)\n",
    "\n",
    "# Print the city count to confirm sufficient count.\n",
    "len(cities)"
   ]
  },
  {
   "cell_type": "code",
   "execution_count": null,
   "id": "73bd1a14-e70f-417f-b126-87884d235525",
   "metadata": {},
   "outputs": [],
   "source": []
  }
 ],
 "metadata": {
  "kernelspec": {
   "display_name": "PythonData",
   "language": "python",
   "name": "pythondata"
  },
  "language_info": {
   "codemirror_mode": {
    "name": "ipython",
    "version": 3
   },
   "file_extension": ".py",
   "mimetype": "text/x-python",
   "name": "python",
   "nbconvert_exporter": "python",
   "pygments_lexer": "ipython3",
   "version": "3.7.10"
  }
 },
 "nbformat": 4,
 "nbformat_minor": 5
}
